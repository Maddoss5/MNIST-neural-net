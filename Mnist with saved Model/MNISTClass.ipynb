{
 "cells": [
  {
   "cell_type": "code",
   "execution_count": 33,
   "id": "f5cac889-0fc0-46a0-b013-ea08a06be332",
   "metadata": {},
   "outputs": [],
   "source": [
    "import torch\n",
    "import matplotlib.pyplot as plt\n",
    "import torchvision\n",
    "import torch.nn as nn\n",
    "from torch.utils.data import Dataset\n",
    "import torch.optim as optim"
   ]
  },
  {
   "cell_type": "code",
   "execution_count": 14,
   "id": "09d2f7db-bafd-44a6-81ce-5396bd29ffac",
   "metadata": {},
   "outputs": [],
   "source": [
    "from torch.utils.data import DataLoader"
   ]
  },
  {
   "cell_type": "code",
   "execution_count": 2,
   "id": "63b8f009-aaae-4d7f-9abc-6ea6a3fc6c52",
   "metadata": {},
   "outputs": [],
   "source": [
    "import numpy"
   ]
  },
  {
   "cell_type": "code",
   "execution_count": 3,
   "id": "de6cd334-72a4-4acc-9e12-6e07bba18bf4",
   "metadata": {},
   "outputs": [
    {
     "name": "stderr",
     "output_type": "stream",
     "text": [
      "C:\\Users\\maddo\\anaconda3\\Lib\\site-packages\\h5py\\__init__.py:36: UserWarning: h5py is running against HDF5 1.14.6 when it was built against 1.14.5, this may cause problems\n",
      "  _warn((\"h5py is running against HDF5 {0} when it was built against {1}, \"\n"
     ]
    }
   ],
   "source": [
    "from tensorflow.keras.datasets import mnist"
   ]
  },
  {
   "cell_type": "code",
   "execution_count": 4,
   "id": "02e60b37-f1a3-47cd-90c6-47f64cb44f8e",
   "metadata": {},
   "outputs": [],
   "source": [
    "(train_images, train_labels), (test_images, test_labels) = mnist.load_data()"
   ]
  },
  {
   "cell_type": "code",
   "execution_count": 5,
   "id": "888dfc22-ccac-4052-9ab4-5ed53f6389c0",
   "metadata": {},
   "outputs": [
    {
     "name": "stdout",
     "output_type": "stream",
     "text": [
      "5\n",
      "0\n",
      "4\n",
      "1\n",
      "9\n"
     ]
    }
   ],
   "source": [
    "for i in range(0,5):\n",
    "    print(train_labels[i])"
   ]
  },
  {
   "cell_type": "code",
   "execution_count": 6,
   "id": "1d701bfa-650b-4e83-b9f3-941e6c005950",
   "metadata": {},
   "outputs": [
    {
     "data": {
      "text/plain": [
       "(60000, 28, 28)"
      ]
     },
     "execution_count": 6,
     "metadata": {},
     "output_type": "execute_result"
    }
   ],
   "source": [
    "train_images.shape"
   ]
  },
  {
   "cell_type": "code",
   "execution_count": 7,
   "id": "945ae834-3406-48d1-aae4-3e59fca2592f",
   "metadata": {},
   "outputs": [],
   "source": [
    "def viewImage(x,y):\n",
    "    trans = torchvision.transforms.ToPILImage()\n",
    "    plt.matshow(x)\n",
    "    plt.show()\n",
    "    print(y)"
   ]
  },
  {
   "cell_type": "code",
   "execution_count": 8,
   "id": "b625eed0-5fd0-4f80-a0d5-4569ab06b1bc",
   "metadata": {},
   "outputs": [],
   "source": [
    "val=23"
   ]
  },
  {
   "cell_type": "code",
   "execution_count": 9,
   "id": "d6335e91-4871-4715-9329-5e4402ea2c2b",
   "metadata": {},
   "outputs": [
    {
     "data": {
      "image/png": "[encoded data removed]",
      "text/plain": [
       "<Figure size 480x480 with 1 Axes>"
      ]
     },
     "metadata": {},
     "output_type": "display_data"
    },
    {
     "name": "stdout",
     "output_type": "stream",
     "text": [
      "1\n"
     ]
    }
   ],
   "source": [
    "viewImage(train_images[val],train_labels[val])"
   ]
  },
  {
   "cell_type": "code",
   "execution_count": 10,
   "id": "d7960e15-3b01-438f-930b-4fa65bcd3f8e",
   "metadata": {},
   "outputs": [],
   "source": [
    "train_images=torch.tensor(train_images)"
   ]
  },
  {
   "cell_type": "code",
   "execution_count": 11,
   "id": "136f9ce5-69d1-40e3-a0cb-37f562084a64",
   "metadata": {},
   "outputs": [],
   "source": [
    "train_images=train_images.view(60000,-1)"
   ]
  },
  {
   "cell_type": "code",
   "execution_count": 12,
   "id": "e8972497-c80d-4484-97b7-a6075ec6526a",
   "metadata": {},
   "outputs": [
    {
     "data": {
      "text/plain": [
       "torch.Size([60000, 784])"
      ]
     },
     "execution_count": 12,
     "metadata": {},
     "output_type": "execute_result"
    }
   ],
   "source": [
    "train_images.shape"
   ]
  },
  {
   "cell_type": "code",
   "execution_count": 23,
   "id": "cb138593-44dc-47cc-8a14-329148f188e2",
   "metadata": {},
   "outputs": [],
   "source": [
    "class neural(nn.Module):\n",
    "    def __init__(self):\n",
    "        super().__init__()\n",
    "        self.fc1=nn.Linear(784,1000)\n",
    "        self.fc2=nn.Linear(1000,500)\n",
    "        self.fc3=nn.Linear(500,10)\n",
    "        self.relu=nn.ReLU()\n",
    "    def forward(self,x):\n",
    "        x=self.fc1(x)\n",
    "        x=self.relu(x)\n",
    "        x=self.relu(self.fc2(x))\n",
    "        x=self.fc3(x)\n",
    "        return x\n",
    "        \n",
    "        \n",
    "        \n",
    "    "
   ]
  },
  {
   "cell_type": "code",
   "execution_count": 24,
   "id": "19082380-ba2b-4977-ba22-5bae718175c3",
   "metadata": {},
   "outputs": [],
   "source": [
    "ha=neural()"
   ]
  },
  {
   "cell_type": "code",
   "execution_count": 29,
   "id": "fc632459-6771-455d-9c6f-c47709b6e814",
   "metadata": {},
   "outputs": [],
   "source": [
    "class newdataset(Dataset):\n",
    "    def __init__(self,data,labels):\n",
    "        self.data=data\n",
    "        self.labels=labels\n",
    "    def __len__(self):\n",
    "        return len(self.labels)\n",
    "    def __getitem__(self,idx):\n",
    "        sampledata=self.data[idx]\n",
    "        samplelabels=self.labels[idx]\n",
    "        return torch.tensor(sampledata,dtype=torch.float32),torch.tensor(samplelabels,dtype=torch.long)"
   ]
  },
  {
   "cell_type": "code",
   "execution_count": 30,
   "id": "2efc3efc-2cb4-4620-8459-bd3372b7c9a9",
   "metadata": {},
   "outputs": [],
   "source": [
    "finaldataset=newdataset(train_images,train_labels)"
   ]
  },
  {
   "cell_type": "code",
   "execution_count": 31,
   "id": "8964f51c-9ca4-480c-830d-d1772de4e288",
   "metadata": {},
   "outputs": [],
   "source": [
    "LoadedData=DataLoader(finaldataset,batch_size=60)"
   ]
  },
  {
   "cell_type": "code",
   "execution_count": 35,
   "id": "374bccb5-d437-4f3a-a340-7c622118e805",
   "metadata": {},
   "outputs": [],
   "source": [
    "optimizer=optim.Adam(ha.parameters(),lr=0.001)\n",
    "criterion=nn.CrossEntropyLoss()"
   ]
  },
  {
   "cell_type": "code",
   "execution_count": 37,
   "id": "91b1de42-3434-41a5-95d4-a0cfc3e5b1ee",
   "metadata": {},
   "outputs": [
    {
     "name": "stderr",
     "output_type": "stream",
     "text": [
      "C:\\Users\\maddo\\AppData\\Local\\Temp\\ipykernel_15216\\4107407390.py:10: UserWarning: To copy construct from a tensor, it is recommended to use sourceTensor.clone().detach() or sourceTensor.clone().detach().requires_grad_(True), rather than torch.tensor(sourceTensor).\n",
      "  return torch.tensor(sampledata,dtype=torch.float32),torch.tensor(samplelabels,dtype=torch.long)\n"
     ]
    },
    {
     "name": "stdout",
     "output_type": "stream",
     "text": [
      "In epoch 0 the total loss is 411.8464050292969 \n",
      "In epoch 1 the total loss is 145.5757598876953 \n",
      "In epoch 2 the total loss is 135.9055938720703 \n",
      "In epoch 3 the total loss is 116.25657653808594 \n",
      "In epoch 4 the total loss is 119.18490600585938 \n",
      "In epoch 5 the total loss is 105.35431671142578 \n",
      "In epoch 6 the total loss is 102.8156967163086 \n",
      "In epoch 7 the total loss is 104.84580993652344 \n",
      "In epoch 8 the total loss is 81.5821304321289 \n",
      "In epoch 9 the total loss is 85.77628326416016 \n",
      "In epoch 10 the total loss is 81.48194122314453 \n",
      "In epoch 11 the total loss is 62.615318298339844 \n",
      "In epoch 12 the total loss is 70.93902587890625 \n",
      "In epoch 13 the total loss is 72.443603515625 \n",
      "In epoch 14 the total loss is 58.66124725341797 \n",
      "In epoch 15 the total loss is 47.20107650756836 \n",
      "In epoch 16 the total loss is 55.0314826965332 \n",
      "In epoch 17 the total loss is 62.6364631652832 \n",
      "In epoch 18 the total loss is 54.25590896606445 \n",
      "In epoch 19 the total loss is 47.51406478881836 \n",
      "In epoch 20 the total loss is 51.8520622253418 \n",
      "In epoch 21 the total loss is 50.92977523803711 \n",
      "In epoch 22 the total loss is 51.117008209228516 \n",
      "In epoch 23 the total loss is 48.940513610839844 \n",
      "In epoch 24 the total loss is 45.93680953979492 \n",
      "In epoch 25 the total loss is 50.100826263427734 \n",
      "In epoch 26 the total loss is 49.352622985839844 \n",
      "In epoch 27 the total loss is 46.761260986328125 \n",
      "In epoch 28 the total loss is 56.70642852783203 \n",
      "In epoch 29 the total loss is 46.81270217895508 \n",
      "In epoch 30 the total loss is 45.12313461303711 \n",
      "In epoch 31 the total loss is 41.92473220825195 \n",
      "In epoch 32 the total loss is 41.96619415283203 \n",
      "In epoch 33 the total loss is 39.525394439697266 \n",
      "In epoch 34 the total loss is 39.145790100097656 \n",
      "In epoch 35 the total loss is 34.369964599609375 \n",
      "In epoch 36 the total loss is 46.99238204956055 \n",
      "In epoch 37 the total loss is 42.140228271484375 \n",
      "In epoch 38 the total loss is 33.077484130859375 \n",
      "In epoch 39 the total loss is 43.45478057861328 \n",
      "In epoch 40 the total loss is 41.86058044433594 \n",
      "In epoch 41 the total loss is 39.0295295715332 \n",
      "In epoch 42 the total loss is 41.76659393310547 \n",
      "In epoch 43 the total loss is 35.41645812988281 \n",
      "In epoch 44 the total loss is 32.71647262573242 \n",
      "In epoch 45 the total loss is 52.71790313720703 \n",
      "In epoch 46 the total loss is 41.343502044677734 \n",
      "In epoch 47 the total loss is 49.87771224975586 \n",
      "In epoch 48 the total loss is 29.949392318725586 \n",
      "In epoch 49 the total loss is 32.54049301147461 \n"
     ]
    }
   ],
   "source": [
    "for i in range(50):\n",
    "    totloss=0\n",
    "    for data,labels in LoadedData:\n",
    "        out=ha(data)\n",
    "        loss=criterion(out,labels)\n",
    "        optimizer.zero_grad()\n",
    "        loss.backward()\n",
    "        optimizer.step()\n",
    "        totloss+=loss\n",
    "    print(f\"In epoch {i} the total loss is {totloss} \")\n",
    "\n",
    "            "
   ]
  },
  {
   "cell_type": "code",
   "execution_count": 38,
   "id": "46ad99e5-7112-46a5-bf0b-054973244b02",
   "metadata": {},
   "outputs": [],
   "source": [
    "torch.save(ha, 'my_model.pt')"
   ]
  },
  {
   "cell_type": "code",
   "execution_count": 43,
   "id": "06a2e435-ae87-49f0-9063-5b7888813523",
   "metadata": {},
   "outputs": [
    {
     "data": {
      "text/plain": [
       "(10000, 28, 28)"
      ]
     },
     "execution_count": 43,
     "metadata": {},
     "output_type": "execute_result"
    }
   ],
   "source": [
    "test_images.shape"
   ]
  },
  {
   "cell_type": "code",
   "execution_count": 45,
   "id": "c33faa59-7243-4e9c-ad8b-7c95051047ee",
   "metadata": {},
   "outputs": [],
   "source": [
    "test_images=torch.tensor(test_images,dtype=torch.float32)"
   ]
  },
  {
   "cell_type": "code",
   "execution_count": 46,
   "id": "23d41676-f8a9-4d5d-9cb6-38286eca114d",
   "metadata": {},
   "outputs": [],
   "source": [
    "test_images=test_images.view(10000,-1)"
   ]
  },
  {
   "cell_type": "code",
   "execution_count": null,
   "id": "f2c8465e-382f-4080-b73b-88707b04b633",
   "metadata": {},
   "outputs": [],
   "source": []
  },
  {
   "cell_type": "code",
   "execution_count": 47,
   "id": "1f0f957a-214b-4a0a-a481-09e2fe44c7f2",
   "metadata": {},
   "outputs": [],
   "source": [
    "finaltrain=newdataset(test_images,test_labels)"
   ]
  },
  {
   "cell_type": "code",
   "execution_count": 48,
   "id": "c33718fe-6621-4154-b796-b52c73e77cf2",
   "metadata": {},
   "outputs": [],
   "source": [
    "Loadedtrain=DataLoader(finaltrain,batch_size=100)"
   ]
  },
  {
   "cell_type": "code",
   "execution_count": 63,
   "id": "6f2c0481-1d26-4b38-a794-ddc598fec460",
   "metadata": {},
   "outputs": [
    {
     "name": "stderr",
     "output_type": "stream",
     "text": [
      "C:\\Users\\maddo\\AppData\\Local\\Temp\\ipykernel_15216\\4107407390.py:10: UserWarning: To copy construct from a tensor, it is recommended to use sourceTensor.clone().detach() or sourceTensor.clone().detach().requires_grad_(True), rather than torch.tensor(sourceTensor).\n",
      "  return torch.tensor(sampledata,dtype=torch.float32),torch.tensor(samplelabels,dtype=torch.long)\n"
     ]
    },
    {
     "name": "stdout",
     "output_type": "stream",
     "text": [
      "Accuracies for each epoch are 100 %\n",
      "Accuracies for each epoch are 100 %\n",
      "Accuracies for each epoch are 97 %\n",
      "Accuracies for each epoch are 97 %\n",
      "Accuracies for each epoch are 98 %\n",
      "Accuracies for each epoch are 98 %\n",
      "Accuracies for each epoch are 97 %\n",
      "Accuracies for each epoch are 100 %\n",
      "Accuracies for each epoch are 98 %\n",
      "Accuracies for each epoch are 96 %\n",
      "Accuracies for each epoch are 97 %\n",
      "Accuracies for each epoch are 93 %\n",
      "Accuracies for each epoch are 94 %\n",
      "Accuracies for each epoch are 96 %\n",
      "Accuracies for each epoch are 98 %\n",
      "Accuracies for each epoch are 92 %\n",
      "Accuracies for each epoch are 98 %\n",
      "Accuracies for each epoch are 97 %\n",
      "Accuracies for each epoch are 98 %\n",
      "Accuracies for each epoch are 97 %\n",
      "Accuracies for each epoch are 96 %\n",
      "Accuracies for each epoch are 93 %\n",
      "Accuracies for each epoch are 96 %\n",
      "Accuracies for each epoch are 96 %\n",
      "Accuracies for each epoch are 94 %\n",
      "Accuracies for each epoch are 97 %\n",
      "Accuracies for each epoch are 96 %\n",
      "Accuracies for each epoch are 97 %\n",
      "Accuracies for each epoch are 95 %\n",
      "Accuracies for each epoch are 93 %\n",
      "Accuracies for each epoch are 96 %\n",
      "Accuracies for each epoch are 97 %\n",
      "Accuracies for each epoch are 100 %\n",
      "Accuracies for each epoch are 98 %\n",
      "Accuracies for each epoch are 96 %\n",
      "Accuracies for each epoch are 92 %\n",
      "Accuracies for each epoch are 97 %\n",
      "Accuracies for each epoch are 96 %\n",
      "Accuracies for each epoch are 95 %\n",
      "Accuracies for each epoch are 95 %\n",
      "Accuracies for each epoch are 93 %\n",
      "Accuracies for each epoch are 96 %\n",
      "Accuracies for each epoch are 93 %\n",
      "Accuracies for each epoch are 96 %\n",
      "Accuracies for each epoch are 94 %\n",
      "Accuracies for each epoch are 94 %\n",
      "Accuracies for each epoch are 96 %\n",
      "Accuracies for each epoch are 97 %\n",
      "Accuracies for each epoch are 91 %\n",
      "Accuracies for each epoch are 98 %\n",
      "Accuracies for each epoch are 97 %\n",
      "Accuracies for each epoch are 99 %\n",
      "Accuracies for each epoch are 100 %\n",
      "Accuracies for each epoch are 100 %\n",
      "Accuracies for each epoch are 99 %\n",
      "Accuracies for each epoch are 100 %\n",
      "Accuracies for each epoch are 98 %\n",
      "Accuracies for each epoch are 98 %\n",
      "Accuracies for each epoch are 98 %\n",
      "Accuracies for each epoch are 97 %\n",
      "Accuracies for each epoch are 96 %\n",
      "Accuracies for each epoch are 99 %\n",
      "Accuracies for each epoch are 100 %\n",
      "Accuracies for each epoch are 100 %\n",
      "Accuracies for each epoch are 100 %\n",
      "Accuracies for each epoch are 96 %\n",
      "Accuracies for each epoch are 97 %\n",
      "Accuracies for each epoch are 98 %\n",
      "Accuracies for each epoch are 99 %\n",
      "Accuracies for each epoch are 100 %\n",
      "Accuracies for each epoch are 100 %\n",
      "Accuracies for each epoch are 100 %\n",
      "Accuracies for each epoch are 99 %\n",
      "Accuracies for each epoch are 100 %\n",
      "Accuracies for each epoch are 99 %\n",
      "Accuracies for each epoch are 100 %\n",
      "Accuracies for each epoch are 100 %\n",
      "Accuracies for each epoch are 100 %\n",
      "Accuracies for each epoch are 97 %\n",
      "Accuracies for each epoch are 96 %\n",
      "Accuracies for each epoch are 99 %\n",
      "Accuracies for each epoch are 100 %\n",
      "Accuracies for each epoch are 97 %\n",
      "Accuracies for each epoch are 97 %\n",
      "Accuracies for each epoch are 97 %\n",
      "Accuracies for each epoch are 99 %\n",
      "Accuracies for each epoch are 100 %\n",
      "Accuracies for each epoch are 100 %\n",
      "Accuracies for each epoch are 100 %\n",
      "Accuracies for each epoch are 100 %\n",
      "Accuracies for each epoch are 95 %\n",
      "Accuracies for each epoch are 100 %\n",
      "Accuracies for each epoch are 99 %\n",
      "Accuracies for each epoch are 99 %\n",
      "Accuracies for each epoch are 100 %\n",
      "Accuracies for each epoch are 98 %\n",
      "Accuracies for each epoch are 95 %\n",
      "Accuracies for each epoch are 94 %\n",
      "Accuracies for each epoch are 95 %\n",
      "Accuracies for each epoch are 98 %\n"
     ]
    }
   ],
   "source": [
    "for data,label in Loadedtrain:\n",
    "    out=ha(data)\n",
    "    val=torch.argmax(out,dim=1)\n",
    "    tmp=(val==label).sum()\n",
    "    print(f\"Accuracies for each epoch are {tmp} %\")"
   ]
  },
  {
   "cell_type": "code",
   "execution_count": null,
   "id": "082dcc01-4049-4ebe-aa6f-40e793866c34",
   "metadata": {},
   "outputs": [],
   "source": []
  }
 ],
 "metadata": {
  "kernelspec": {
   "display_name": "Python 3 (ipykernel)",
   "language": "python",
   "name": "python3"
  },
  "language_info": {
   "codemirror_mode": {
    "name": "ipython",
    "version": 3
   },
   "file_extension": ".py",
   "mimetype": "text/x-python",
   "name": "python",
   "nbconvert_exporter": "python",
   "pygments_lexer": "ipython3",
   "version": "3.11.7"
  }
 },
 "nbformat": 4,
 "nbformat_minor": 5
}
